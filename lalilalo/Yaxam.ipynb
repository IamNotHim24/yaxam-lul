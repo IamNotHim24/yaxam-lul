{
 "cells": [
  {
   "cell_type": "markdown",
   "id": "bb99e763",
   "metadata": {},
   "source": [
    "Numpy is a library for numerical computing in Python. It provides support for large, multi-dimensional arrays and matrices, along with a collection of mathematical functions to operate on these  arrays efficiently. It is important in data science becuase it offers optimized operations for numerical data, serving as a foundation for libraries like pandas and Scipy.\n",
    "____________________________________________________________________________________________________________________________"
   ]
  },
  {
   "cell_type": "markdown",
   "id": "7a2ec66a",
   "metadata": {},
   "source": [
    "1. How do you create a NumPy array from a Python list?"
   ]
  },
  {
   "cell_type": "code",
   "execution_count": 1,
   "id": "867cb228",
   "metadata": {},
   "outputs": [
    {
     "name": "stdout",
     "output_type": "stream",
     "text": [
      "[1 2 3 4]\n"
     ]
    }
   ],
   "source": [
    "import numpy as np\n",
    "python_list = [1,2,3,4]\n",
    "numpy_array = np.array(python_list)\n",
    "print(numpy_array)"
   ]
  },
  {
   "cell_type": "markdown",
   "id": "67a545e7",
   "metadata": {},
   "source": [
    "2.Write a code snipper to create a 3X3 identity matrix using NumPy."
   ]
  },
  {
   "cell_type": "code",
   "execution_count": 2,
   "id": "17fd2929",
   "metadata": {},
   "outputs": [
    {
     "name": "stdout",
     "output_type": "stream",
     "text": [
      "[[1. 0. 0.]\n",
      " [0. 1. 0.]\n",
      " [0. 0. 1.]]\n"
     ]
    }
   ],
   "source": [
    "identity_matrix = np.eye(3)\n",
    "print(identity_matrix)"
   ]
  },
  {
   "cell_type": "markdown",
   "id": "aff85313",
   "metadata": {},
   "source": [
    "3.how do you perform element wise addition and multiplication on two arrays in NumPy"
   ]
  },
  {
   "cell_type": "code",
   "execution_count": 3,
   "id": "3af2617f",
   "metadata": {},
   "outputs": [
    {
     "name": "stdout",
     "output_type": "stream",
     "text": [
      "addition [5 7 9]\n",
      "multiplication [ 4 10 18]\n"
     ]
    }
   ],
   "source": [
    "array1 = np.array([1,2,3])\n",
    "array2 = np.array([4,5,6])\n",
    "\n",
    "addition = array1 + array2\n",
    "multiplication = array1 * array2\n",
    "\n",
    "print('addition', addition)\n",
    "print('multiplication',multiplication)"
   ]
  },
  {
   "cell_type": "markdown",
   "id": "c354b364",
   "metadata": {},
   "source": [
    "4.What are the difference between numpy.zero(),numpy.one() and numpy.empty?"
   ]
  },
  {
   "cell_type": "code",
   "execution_count": 4,
   "id": "c2d9116b",
   "metadata": {},
   "outputs": [
    {
     "name": "stdout",
     "output_type": "stream",
     "text": [
      "[[1. 1.]\n",
      " [1. 1.]]\n",
      "[[0. 0.]\n",
      " [0. 0.]]\n",
      "[[2.12199579e-314 4.22786102e-307]\n",
      " [3.99205042e-321 6.95314444e-310]]\n"
     ]
    }
   ],
   "source": [
    "one = np.ones((2,2))\n",
    "zero = np.zeros((2,2))\n",
    "empty = np.empty((2,2))\n",
    "print(one)\n",
    "print(zero)\n",
    "print(empty)"
   ]
  },
  {
   "cell_type": "markdown",
   "id": "065f96e7",
   "metadata": {},
   "source": [
    "5.Explain the use of slicing in NumPy arrays with an Example."
   ]
  },
  {
   "cell_type": "code",
   "execution_count": 5,
   "id": "f671425d",
   "metadata": {},
   "outputs": [
    {
     "name": "stdout",
     "output_type": "stream",
     "text": [
      "[[2]\n",
      " [5]]\n"
     ]
    }
   ],
   "source": [
    "array = np.array([[1,2,3],[4,5,6],[7,8,9]])\n",
    "sliced = array[0:2,1:2]\n",
    "print(sliced)"
   ]
  },
  {
   "cell_type": "markdown",
   "id": "c2adef04",
   "metadata": {},
   "source": [
    "6.How can you calculate the mean,, median and standard deviation of a NumPy array?"
   ]
  },
  {
   "cell_type": "code",
   "execution_count": 6,
   "id": "7fcd3669",
   "metadata": {},
   "outputs": [
    {
     "name": "stdout",
     "output_type": "stream",
     "text": [
      "3.0\n",
      "3.0\n",
      "1.4142135623730951\n"
     ]
    }
   ],
   "source": [
    "array = np.array([1,2,3,4,5])\n",
    "print(np.mean(array))\n",
    "print(np.median(array))\n",
    "print(np.std(array))"
   ]
  },
  {
   "cell_type": "markdown",
   "id": "f020b127",
   "metadata": {},
   "source": [
    "7.Write a program to reshape 1D array into a 2D array"
   ]
  },
  {
   "cell_type": "code",
   "execution_count": 7,
   "id": "0b17a327",
   "metadata": {},
   "outputs": [
    {
     "name": "stdout",
     "output_type": "stream",
     "text": [
      "[[1 2 3]\n",
      " [4 5 6]]\n"
     ]
    }
   ],
   "source": [
    "array = np.array([1,2,3,4,5,6])\n",
    "reshaped = array.reshape(2,3)\n",
    "print(reshaped)"
   ]
  },
  {
   "cell_type": "markdown",
   "id": "efbff6a8",
   "metadata": {},
   "source": [
    "8.How do you find the indices of all elements greater than a specified value in a NumPy array?"
   ]
  },
  {
   "cell_type": "code",
   "execution_count": 8,
   "id": "515299a0",
   "metadata": {},
   "outputs": [
    {
     "name": "stdout",
     "output_type": "stream",
     "text": [
      "(array([2, 4], dtype=int64),)\n"
     ]
    }
   ],
   "source": [
    "array = np.array([1,3,7,4,9,5])\n",
    "indices = np.where(array>5)\n",
    "print(indices)"
   ]
  },
  {
   "cell_type": "markdown",
   "id": "224e4584",
   "metadata": {},
   "source": [
    "9. Explain broadcasting in NumPy with an example."
   ]
  },
  {
   "cell_type": "code",
   "execution_count": 9,
   "id": "9d2343e0",
   "metadata": {},
   "outputs": [
    {
     "name": "stdout",
     "output_type": "stream",
     "text": [
      "[[2 3 4]\n",
      " [3 4 5]]\n"
     ]
    }
   ],
   "source": [
    "array1 = np.array([1,2,3])\n",
    "array2 = np.array([[1],[2]])\n",
    "result = array1 + array2\n",
    "print(result)"
   ]
  },
  {
   "cell_type": "markdown",
   "id": "bfbef989",
   "metadata": {},
   "source": [
    "PANDAS\n",
    "\n",
    "What are the core data structures in pandas?\n",
    "\n",
    "series: A 1D array labeled array.\n",
    "\n",
    "dataframe: A 2D labeled data structure \n",
    "\n",
    "index: The labels used for rows and columns in Series and DataFrames."
   ]
  },
  {
   "cell_type": "markdown",
   "id": "6a2767fd",
   "metadata": {},
   "source": [
    "1.How do you read csv files into pandas DataFrame?"
   ]
  },
  {
   "cell_type": "code",
   "execution_count": 10,
   "id": "95920ee9",
   "metadata": {},
   "outputs": [
    {
     "data": {
      "text/html": [
       "<div>\n",
       "<style scoped>\n",
       "    .dataframe tbody tr th:only-of-type {\n",
       "        vertical-align: middle;\n",
       "    }\n",
       "\n",
       "    .dataframe tbody tr th {\n",
       "        vertical-align: top;\n",
       "    }\n",
       "\n",
       "    .dataframe thead th {\n",
       "        text-align: right;\n",
       "    }\n",
       "</style>\n",
       "<table border=\"1\" class=\"dataframe\">\n",
       "  <thead>\n",
       "    <tr style=\"text-align: right;\">\n",
       "      <th></th>\n",
       "      <th>col1</th>\n",
       "      <th>col2</th>\n",
       "      <th>col3</th>\n",
       "      <th>col4</th>\n",
       "      <th>col5</th>\n",
       "    </tr>\n",
       "  </thead>\n",
       "  <tbody>\n",
       "    <tr>\n",
       "      <th>0</th>\n",
       "      <td>4.9</td>\n",
       "      <td>3.0</td>\n",
       "      <td>1.4</td>\n",
       "      <td>0.2</td>\n",
       "      <td>Iris-setosa</td>\n",
       "    </tr>\n",
       "    <tr>\n",
       "      <th>1</th>\n",
       "      <td>4.7</td>\n",
       "      <td>3.2</td>\n",
       "      <td>1.3</td>\n",
       "      <td>0.2</td>\n",
       "      <td>Iris-setosa</td>\n",
       "    </tr>\n",
       "    <tr>\n",
       "      <th>2</th>\n",
       "      <td>4.6</td>\n",
       "      <td>3.1</td>\n",
       "      <td>1.5</td>\n",
       "      <td>0.2</td>\n",
       "      <td>Iris-setosa</td>\n",
       "    </tr>\n",
       "    <tr>\n",
       "      <th>3</th>\n",
       "      <td>5.0</td>\n",
       "      <td>3.6</td>\n",
       "      <td>1.4</td>\n",
       "      <td>0.2</td>\n",
       "      <td>Iris-setosa</td>\n",
       "    </tr>\n",
       "    <tr>\n",
       "      <th>4</th>\n",
       "      <td>5.4</td>\n",
       "      <td>3.9</td>\n",
       "      <td>1.7</td>\n",
       "      <td>0.4</td>\n",
       "      <td>Iris-setosa</td>\n",
       "    </tr>\n",
       "    <tr>\n",
       "      <th>...</th>\n",
       "      <td>...</td>\n",
       "      <td>...</td>\n",
       "      <td>...</td>\n",
       "      <td>...</td>\n",
       "      <td>...</td>\n",
       "    </tr>\n",
       "    <tr>\n",
       "      <th>144</th>\n",
       "      <td>6.7</td>\n",
       "      <td>3.0</td>\n",
       "      <td>5.2</td>\n",
       "      <td>2.3</td>\n",
       "      <td>Iris-virginica</td>\n",
       "    </tr>\n",
       "    <tr>\n",
       "      <th>145</th>\n",
       "      <td>6.3</td>\n",
       "      <td>2.5</td>\n",
       "      <td>5.0</td>\n",
       "      <td>1.9</td>\n",
       "      <td>Iris-virginica</td>\n",
       "    </tr>\n",
       "    <tr>\n",
       "      <th>146</th>\n",
       "      <td>6.5</td>\n",
       "      <td>3.0</td>\n",
       "      <td>5.2</td>\n",
       "      <td>2.0</td>\n",
       "      <td>Iris-virginica</td>\n",
       "    </tr>\n",
       "    <tr>\n",
       "      <th>147</th>\n",
       "      <td>6.2</td>\n",
       "      <td>3.4</td>\n",
       "      <td>5.4</td>\n",
       "      <td>2.3</td>\n",
       "      <td>Iris-virginica</td>\n",
       "    </tr>\n",
       "    <tr>\n",
       "      <th>148</th>\n",
       "      <td>5.9</td>\n",
       "      <td>3.0</td>\n",
       "      <td>5.1</td>\n",
       "      <td>1.8</td>\n",
       "      <td>Iris-virginica</td>\n",
       "    </tr>\n",
       "  </tbody>\n",
       "</table>\n",
       "<p>149 rows × 5 columns</p>\n",
       "</div>"
      ],
      "text/plain": [
       "     col1  col2  col3  col4            col5\n",
       "0     4.9   3.0   1.4   0.2     Iris-setosa\n",
       "1     4.7   3.2   1.3   0.2     Iris-setosa\n",
       "2     4.6   3.1   1.5   0.2     Iris-setosa\n",
       "3     5.0   3.6   1.4   0.2     Iris-setosa\n",
       "4     5.4   3.9   1.7   0.4     Iris-setosa\n",
       "..    ...   ...   ...   ...             ...\n",
       "144   6.7   3.0   5.2   2.3  Iris-virginica\n",
       "145   6.3   2.5   5.0   1.9  Iris-virginica\n",
       "146   6.5   3.0   5.2   2.0  Iris-virginica\n",
       "147   6.2   3.4   5.4   2.3  Iris-virginica\n",
       "148   5.9   3.0   5.1   1.8  Iris-virginica\n",
       "\n",
       "[149 rows x 5 columns]"
      ]
     },
     "execution_count": 10,
     "metadata": {},
     "output_type": "execute_result"
    }
   ],
   "source": [
    "import pandas as pd \n",
    "df = pd.read_csv('iris.csv')\n",
    "df.columns =['col1','col2','col3','col4','col5']\n",
    "df\n"
   ]
  },
  {
   "cell_type": "markdown",
   "id": "a21b67d6",
   "metadata": {},
   "source": [
    "2.Explain the difference between loc[] and iloc[] with examples."
   ]
  },
  {
   "cell_type": "code",
   "execution_count": 55,
   "id": "fa978bc1",
   "metadata": {},
   "outputs": [
    {
     "name": "stdout",
     "output_type": "stream",
     "text": [
      "A    1\n",
      "B    4\n",
      "Name: row1, dtype: int64\n",
      "A    1\n",
      "B    4\n",
      "Name: row1, dtype: int64\n",
      "      A  B\n",
      "row1  1  4\n",
      "row2  2  6\n",
      "row3  3  7\n"
     ]
    }
   ],
   "source": [
    "data = {'A':[1,2,3],'B':[4,6,7]}\n",
    "df = pd.DataFrame(data,index=['row1','row2','row3'])\n",
    "\n",
    "print(df.loc['row1'])\n",
    "\n",
    "print(df.iloc[0])\n",
    "print(df)\n"
   ]
  },
  {
   "cell_type": "markdown",
   "id": "9de48dce",
   "metadata": {},
   "source": [
    "3.How do you handle missing values in a pandas DataFrame?"
   ]
  },
  {
   "cell_type": "code",
   "execution_count": 50,
   "id": "520b640a",
   "metadata": {},
   "outputs": [
    {
     "name": "stdout",
     "output_type": "stream",
     "text": [
      "     A    B\n",
      "0  1.0  4.0\n",
      "1  NaN  5.0\n",
      "2  3.0  NaN\n",
      "     A    B\n",
      "0  1.0  4.0\n",
      "     A    B\n",
      "0  1.0  4.0\n",
      "1  NaN  5.0\n",
      "2  3.0  NaN\n"
     ]
    }
   ],
   "source": [
    "data = {'A':[1,None,3], 'B':[4,5,None]}\n",
    "df = pd.DataFrame(data)\n",
    "print(df)\n",
    "df_filled = df.fillna(0)\n",
    "df_dropped = df.dropna()\n",
    "df.dropna()\n",
    "print(df_dropped)"
   ]
  },
  {
   "cell_type": "markdown",
   "id": "a44637b2",
   "metadata": {},
   "source": [
    "4.Write a code snipped to filter rows in a DataFrame where a specific column has values greater than 100."
   ]
  },
  {
   "cell_type": "code",
   "execution_count": 13,
   "id": "56ff5eca",
   "metadata": {},
   "outputs": [
    {
     "name": "stdout",
     "output_type": "stream",
     "text": [
      "     A   B\n",
      "1  150  20\n",
      "2  200  30\n"
     ]
    }
   ],
   "source": [
    "data = {'A':[50,150,200],'B':[10,20,30]}\n",
    "\n",
    "df = pd.DataFrame(data)\n",
    "\n",
    "filtered_df = df[df['A']>100]\n",
    "print(filtered_df)"
   ]
  },
  {
   "cell_type": "markdown",
   "id": "b2ccdc58",
   "metadata": {},
   "source": [
    "5.How can you group data in pandas using groupby()?"
   ]
  },
  {
   "cell_type": "code",
   "execution_count": 14,
   "id": "bd921445",
   "metadata": {},
   "outputs": [
    {
     "name": "stdout",
     "output_type": "stream",
     "text": [
      "          value\n",
      "Category       \n",
      "A            40\n",
      "B            60\n"
     ]
    }
   ],
   "source": [
    "data = {'Category':['A','B','A','B'],'value':[10,20,30,40]}\n",
    "df = pd.DataFrame(data)\n",
    "\n",
    "grouped = df.groupby('Category').sum()\n",
    "print(grouped)"
   ]
  },
  {
   "cell_type": "markdown",
   "id": "dfe78302",
   "metadata": {},
   "source": [
    "6. What is the purpose of the apply() function in pandas? Give an Example."
   ]
  },
  {
   "cell_type": "code",
   "execution_count": 15,
   "id": "8c8aef9a",
   "metadata": {},
   "outputs": [
    {
     "name": "stdout",
     "output_type": "stream",
     "text": [
      "   A  B\n",
      "0  1  4\n",
      "1  2  5\n",
      "2  3  6\n",
      "   A   B\n",
      "0  2   8\n",
      "1  4  10\n",
      "2  6  12\n"
     ]
    }
   ],
   "source": [
    "data = {'A':[1,2,3],'B':[4,5,6]}\n",
    "df = pd.DataFrame(data)\n",
    "print(df)\n",
    "\n",
    "double_df = df.apply(lambda x:x * 2)\n",
    "print(double_df)"
   ]
  },
  {
   "cell_type": "markdown",
   "id": "b71bff76",
   "metadata": {},
   "source": [
    "7.How do you merge two DataFrames in pandas?"
   ]
  },
  {
   "cell_type": "code",
   "execution_count": 16,
   "id": "fdb51f98",
   "metadata": {},
   "outputs": [
    {
     "name": "stdout",
     "output_type": "stream",
     "text": [
      "   ID   Name  Age\n",
      "0   1  Alice   69\n",
      "1   2    Bob   96\n"
     ]
    }
   ],
   "source": [
    "df1 = pd.DataFrame({'ID':[1,2],'Name':['Alice','Bob']})\n",
    "df2 = pd.DataFrame({'ID':[1,2],'Age':[69,96]})\n",
    "\n",
    "merged_df = pd.merge(df1,df2,on='ID')\n",
    "print(merged_df)"
   ]
  },
  {
   "cell_type": "markdown",
   "id": "b7d9a02c",
   "metadata": {},
   "source": [
    "8.Explain the difference between a DataFrame anad a Series in Pandas.\n",
    "\n",
    "data frame is a 2d structure with rows and columns.\n",
    "\n",
    "series is a 1d structure with an index."
   ]
  },
  {
   "cell_type": "code",
   "execution_count": 17,
   "id": "9b652a32",
   "metadata": {},
   "outputs": [
    {
     "name": "stdout",
     "output_type": "stream",
     "text": [
      "0    1\n",
      "1    2\n",
      "2    3\n",
      "dtype: int64\n",
      "   A  B\n",
      "0  1  3\n",
      "1  2  4\n"
     ]
    }
   ],
   "source": [
    "series = pd.Series([1,2,3])\n",
    "df = pd.DataFrame({'A':[1,2],'B':[3,4]})\n",
    "print(series)\n",
    "print(df)"
   ]
  },
  {
   "cell_type": "markdown",
   "id": "b1b5a05a",
   "metadata": {},
   "source": [
    "9. How can you sort a DataFrame by multiple columns?"
   ]
  },
  {
   "cell_type": "code",
   "execution_count": 18,
   "id": "95545670",
   "metadata": {},
   "outputs": [
    {
     "name": "stdout",
     "output_type": "stream",
     "text": [
      "      Name  Age  Score\n",
      "2  Charlie   25     95\n",
      "0    Alice   25     90\n",
      "1      Bob   30     80\n"
     ]
    }
   ],
   "source": [
    "data ={'Name':['Alice','Bob','Charlie'],'Age':[25,30,25],'Score':[90,80,95]}\n",
    "df = pd.DataFrame(data)\n",
    "\n",
    "sorted_df = df.sort_values(by=['Age','Score'],ascending=[True,False])\n",
    "print(sorted_df)"
   ]
  },
  {
   "cell_type": "markdown",
   "id": "c63fa717",
   "metadata": {},
   "source": [
    "NumPy and Pandas Combined"
   ]
  },
  {
   "cell_type": "markdown",
   "id": "2f17f942",
   "metadata": {},
   "source": [
    "1.How do you  convert a NumPy array into a pandas DataFrame?"
   ]
  },
  {
   "cell_type": "code",
   "execution_count": 19,
   "id": "e001d7bc",
   "metadata": {},
   "outputs": [
    {
     "name": "stdout",
     "output_type": "stream",
     "text": [
      "[[1 2]\n",
      " [3 4]\n",
      " [5 6]]\n",
      "   Column1  Column2\n",
      "0        1        2\n",
      "1        3        4\n",
      "2        5        6\n"
     ]
    }
   ],
   "source": [
    "array = np.array([[1,2],[3,4],[5,6]])\n",
    "print(array)\n",
    "df = pd.DataFrame(array,columns=['Column1','Column2'])\n",
    "print(df)"
   ]
  },
  {
   "cell_type": "markdown",
   "id": "a1b0aafa",
   "metadata": {},
   "source": [
    "2.Write a program to calculate the mean of pandas DataFrame column using NumPy"
   ]
  },
  {
   "cell_type": "code",
   "execution_count": 20,
   "id": "4c41b997",
   "metadata": {},
   "outputs": [
    {
     "name": "stdout",
     "output_type": "stream",
     "text": [
      "25.0\n"
     ]
    }
   ],
   "source": [
    "data = {'A':[4,9,16,25],'B':[10,20,30,40]}\n",
    "df = pd.DataFrame(data)\n",
    "\n",
    "mean_val = np.mean(df['B'])\n",
    "print(mean_val)"
   ]
  },
  {
   "cell_type": "markdown",
   "id": "d8c419cc",
   "metadata": {},
   "source": [
    "3.How can you use NumPy to apply a mathematical function to an entire pandas DataFrame"
   ]
  },
  {
   "cell_type": "code",
   "execution_count": 21,
   "id": "d9544cc5",
   "metadata": {},
   "outputs": [
    {
     "name": "stdout",
     "output_type": "stream",
     "text": [
      "           A           B\n",
      "0   2.718282   54.598150\n",
      "1   7.389056  148.413159\n",
      "2  20.085537  403.428793\n"
     ]
    }
   ],
   "source": [
    "data = {'A':[1,2,3],'B':[4,5,6]}\n",
    "df = pd.DataFrame(data)\n",
    "df_exp = np.exp(df)\n",
    "print(df_exp)"
   ]
  },
  {
   "cell_type": "markdown",
   "id": "9f3b105a",
   "metadata": {},
   "source": [
    "4.How do you convert a pandas DataFrame column into a NumPy array?"
   ]
  },
  {
   "cell_type": "code",
   "execution_count": 22,
   "id": "80013729",
   "metadata": {},
   "outputs": [
    {
     "name": "stdout",
     "output_type": "stream",
     "text": [
      "[1 2 3]\n"
     ]
    },
    {
     "data": {
      "text/html": [
       "<div>\n",
       "<style scoped>\n",
       "    .dataframe tbody tr th:only-of-type {\n",
       "        vertical-align: middle;\n",
       "    }\n",
       "\n",
       "    .dataframe tbody tr th {\n",
       "        vertical-align: top;\n",
       "    }\n",
       "\n",
       "    .dataframe thead th {\n",
       "        text-align: right;\n",
       "    }\n",
       "</style>\n",
       "<table border=\"1\" class=\"dataframe\">\n",
       "  <thead>\n",
       "    <tr style=\"text-align: right;\">\n",
       "      <th></th>\n",
       "      <th>A</th>\n",
       "      <th>B</th>\n",
       "    </tr>\n",
       "  </thead>\n",
       "  <tbody>\n",
       "    <tr>\n",
       "      <th>0</th>\n",
       "      <td>1</td>\n",
       "      <td>4</td>\n",
       "    </tr>\n",
       "    <tr>\n",
       "      <th>1</th>\n",
       "      <td>2</td>\n",
       "      <td>5</td>\n",
       "    </tr>\n",
       "    <tr>\n",
       "      <th>2</th>\n",
       "      <td>3</td>\n",
       "      <td>6</td>\n",
       "    </tr>\n",
       "  </tbody>\n",
       "</table>\n",
       "</div>"
      ],
      "text/plain": [
       "   A  B\n",
       "0  1  4\n",
       "1  2  5\n",
       "2  3  6"
      ]
     },
     "execution_count": 22,
     "metadata": {},
     "output_type": "execute_result"
    }
   ],
   "source": [
    "data = {'A':[1,2,3],'B':[4,5,6]}\n",
    "df = pd.DataFrame(data)\n",
    "\n",
    "array = df['A'].to_numpy()\n",
    "print(array)\n",
    "df"
   ]
  },
  {
   "cell_type": "markdown",
   "id": "a18b5c82",
   "metadata": {},
   "source": [
    "5. Write a code snippet to calculate the correlation between two columns of a pandas DataFrame using NumPy"
   ]
  },
  {
   "cell_type": "code",
   "execution_count": 23,
   "id": "b03018a3",
   "metadata": {},
   "outputs": [
    {
     "name": "stdout",
     "output_type": "stream",
     "text": [
      "Correlation: 1.0\n"
     ]
    }
   ],
   "source": [
    "data = {'X':[1,2,3,4],'Y':[10,20,30,40]}\n",
    "df = pd.DataFrame(data)\n",
    "\n",
    "correlation = np.corrcoef(df['X'],df['Y'])[0,1]\n",
    "print('Correlation:',correlation)"
   ]
  },
  {
   "cell_type": "markdown",
   "id": "d8b0d3b1",
   "metadata": {},
   "source": [
    "6.How fo you filter rows in a pandas DataFrame where a NumPy function applied to a column meets a condition?"
   ]
  },
  {
   "cell_type": "code",
   "execution_count": 52,
   "id": "5c0c0ed6",
   "metadata": {},
   "outputs": [
    {
     "name": "stdout",
     "output_type": "stream",
     "text": [
      "   A   B\n",
      "0  4  10\n"
     ]
    }
   ],
   "source": [
    "data = {'A':[4,9,16,25],'B':[10,20,30,40]}\n",
    "df = pd.DataFrame(data)\n",
    "\n",
    "filtered_df = df[np.sqrt(df['A'])<3]\n",
    "print(filtered_df)"
   ]
  },
  {
   "cell_type": "markdown",
   "id": "78610a8d",
   "metadata": {},
   "source": [
    "7. Create a pandas DataFrame from a NumPy random array with proper column names."
   ]
  },
  {
   "cell_type": "code",
   "execution_count": 25,
   "id": "deb7a2a9",
   "metadata": {},
   "outputs": [
    {
     "name": "stdout",
     "output_type": "stream",
     "text": [
      "       Col1      Col2      Col3\n",
      "0  0.506341  0.271494  0.179545\n",
      "1  0.478821  0.399673  0.368409\n",
      "2  0.230254  0.256321  0.139936\n",
      "3  0.410772  0.784106  0.341365\n",
      "4  0.956581  0.734150  0.452766\n"
     ]
    }
   ],
   "source": [
    "random_array = np.random.rand(5,3)\n",
    "\n",
    "df = pd.DataFrame(random_array,columns=['Col1','Col2','Col3'])\n",
    "print(df)"
   ]
  },
  {
   "cell_type": "markdown",
   "id": "d2b4d1ad",
   "metadata": {},
   "source": [
    "8.Write a program to normalize a pandas DataFrame column using NumPy."
   ]
  },
  {
   "cell_type": "code",
   "execution_count": 26,
   "id": "cf8cdd45",
   "metadata": {},
   "outputs": [
    {
     "name": "stdout",
     "output_type": "stream",
     "text": [
      "0     0\n",
      "1    10\n",
      "2    20\n",
      "3    30\n",
      "4    40\n",
      "Name: A, dtype: int64\n",
      "0    0.00\n",
      "1    0.25\n",
      "2    0.50\n",
      "3    0.75\n",
      "4    1.00\n",
      "Name: A_normalized, dtype: float64\n"
     ]
    }
   ],
   "source": [
    "data = {'A':[10,20,30,40,50]}\n",
    "df = pd.DataFrame(data)\n",
    "print(df['A']-np.min(df['A']))\n",
    "df['A_normalized'] = (df['A']-np.min(df['A']))/(np.max(df['A'])-np.min(df['A']))\n",
    "print(df['A_normalized'])"
   ]
  },
  {
   "cell_type": "markdown",
   "id": "278628ea",
   "metadata": {},
   "source": [
    "9.Combine NumPy array operation and pandas grouping. For example, calculate the sd of grouped data using Numpy"
   ]
  },
  {
   "cell_type": "code",
   "execution_count": 27,
   "id": "442269cb",
   "metadata": {},
   "outputs": [
    {
     "name": "stdout",
     "output_type": "stream",
     "text": [
      "Group\n",
      "A    5.0\n",
      "B    5.0\n",
      "Name: Value, dtype: float64\n"
     ]
    }
   ],
   "source": [
    "data = {'Group': ['A', 'A', 'B', 'B'], 'Value': [10, 20, 30, 40]}\n",
    "df = pd.DataFrame(data)\n",
    "\n",
    "grouped_std = df.groupby('Group')['Value'].apply(np.std)\n",
    "print(grouped_std)"
   ]
  },
  {
   "cell_type": "markdown",
   "id": "9e1e8a1f",
   "metadata": {},
   "source": [
    "10.Explain how NumPy's vectorization benefits pandas operations, with an example."
   ]
  },
  {
   "cell_type": "code",
   "execution_count": 28,
   "id": "5d1a4f73",
   "metadata": {},
   "outputs": [
    {
     "name": "stdout",
     "output_type": "stream",
     "text": [
      "   A  B  Sum\n",
      "0  1  4    5\n",
      "1  2  5    7\n",
      "2  3  6    9\n"
     ]
    }
   ],
   "source": [
    "data = {'A':[1,2,3],'B':[4,5,6]}\n",
    "df = pd.DataFrame(data)\n",
    "\n",
    "df['Sum'] = np.add(df['A'],df['B'])\n",
    "print(df)"
   ]
  },
  {
   "cell_type": "markdown",
   "id": "50d1c82f",
   "metadata": {},
   "source": [
    "The original questions on pandas and numpy"
   ]
  },
  {
   "cell_type": "markdown",
   "id": "b81ac74c",
   "metadata": {},
   "source": [
    "1.Convert NumPy to pandas DataFrame with proper column names."
   ]
  },
  {
   "cell_type": "code",
   "execution_count": 29,
   "id": "23f3dfe2",
   "metadata": {},
   "outputs": [
    {
     "name": "stdout",
     "output_type": "stream",
     "text": [
      "   Column1  Column2\n",
      "0       10       20\n",
      "1       30       40\n",
      "2       50       60\n"
     ]
    }
   ],
   "source": [
    "array = np.array([[10,20],[30,40],[50,60]])\n",
    "\n",
    "df = pd.DataFrame(array,columns=['Column1','Column2'])\n",
    "print(df)"
   ]
  },
  {
   "cell_type": "markdown",
   "id": "5ee8325b",
   "metadata": {},
   "source": [
    "2.Find the mean of a pandas DataFrame column using NumPy"
   ]
  },
  {
   "cell_type": "code",
   "execution_count": 30,
   "id": "70bd602b",
   "metadata": {},
   "outputs": [
    {
     "name": "stdout",
     "output_type": "stream",
     "text": [
      "10.0\n"
     ]
    }
   ],
   "source": [
    "data = {'A':[5,12,13],'B':[10,20,30]}\n",
    "df = pd.DataFrame(data)\n",
    "\n",
    "mean_val = np.mean(df['A'])\n",
    "print(mean_val)"
   ]
  },
  {
   "cell_type": "markdown",
   "id": "f0a8aa3a",
   "metadata": {},
   "source": [
    "3.Use NumPy functions to apply mathematical operation like exponential and log on a pandas DataFrame."
   ]
  },
  {
   "cell_type": "code",
   "execution_count": 31,
   "id": "b8cec001",
   "metadata": {},
   "outputs": [
    {
     "name": "stdout",
     "output_type": "stream",
     "text": [
      "   A  B      Exp_A     Log_B\n",
      "0  1  4   2.718282  1.386294\n",
      "1  2  5   7.389056  1.609438\n",
      "2  3  6  20.085537  1.791759\n"
     ]
    }
   ],
   "source": [
    "data = {'A':[1,2,3],'B':[4,5,6]}\n",
    "df = pd.DataFrame(data)\n",
    "\n",
    "df['Exp_A'] = np.exp(df['A'])\n",
    "df['Log_B'] = np.log(df['B'])\n",
    "\n",
    "print(df)"
   ]
  },
  {
   "cell_type": "markdown",
   "id": "ab186846",
   "metadata": {},
   "source": [
    "4.Write a program to normalize a column in a pandas DataFrame using NumPy."
   ]
  },
  {
   "cell_type": "code",
   "execution_count": 32,
   "id": "c6227692",
   "metadata": {},
   "outputs": [
    {
     "name": "stdout",
     "output_type": "stream",
     "text": [
      "    A  normalized_A\n",
      "0  10          0.00\n",
      "1  20          0.25\n",
      "2  30          0.50\n",
      "3  40          0.75\n",
      "4  50          1.00\n"
     ]
    }
   ],
   "source": [
    "data = {'A':[10,20,30,40,50]}\n",
    "df = pd.DataFrame(data)\n",
    "\n",
    "df['normalized_A'] = (df['A']-np.min(df['A']))/(np.max(df['A'])-np.min(df['A']))\n",
    "print(df)"
   ]
  },
  {
   "cell_type": "markdown",
   "id": "8d117898",
   "metadata": {},
   "source": [
    "5.Filter rows in pandas DataFrame based on a condition applied via a NumPy function."
   ]
  },
  {
   "cell_type": "code",
   "execution_count": 33,
   "id": "b2f709f2",
   "metadata": {},
   "outputs": [
    {
     "name": "stdout",
     "output_type": "stream",
     "text": [
      "    A    B\n",
      "2  25  400\n"
     ]
    }
   ],
   "source": [
    "data = {'A':[4,16,25],'B':[100,225,400]}\n",
    "df = pd.DataFrame(data)\n",
    "\n",
    "filtered_df = df[np.sqrt(df['B'])>15]\n",
    "print(filtered_df)"
   ]
  },
  {
   "cell_type": "markdown",
   "id": "3da7efac",
   "metadata": {},
   "source": [
    "6.Calculate the correlation between two pandas DataFrame columns using NumPy."
   ]
  },
  {
   "cell_type": "code",
   "execution_count": 34,
   "id": "360c136f",
   "metadata": {},
   "outputs": [
    {
     "name": "stdout",
     "output_type": "stream",
     "text": [
      "1.0\n"
     ]
    }
   ],
   "source": [
    "data = {'X':[1,2,3],'Y':[10,20,30]}\n",
    "df = pd.DataFrame(data)\n",
    "\n",
    "correlation = np.corrcoef(df['X'],df['Y'])[0,1]\n",
    "print(correlation)"
   ]
  },
  {
   "cell_type": "markdown",
   "id": "8128d803",
   "metadata": {},
   "source": [
    "MatPlot"
   ]
  },
  {
   "cell_type": "code",
   "execution_count": 35,
   "id": "3c26cecf",
   "metadata": {},
   "outputs": [],
   "source": [
    "import matplotlib.pyplot as plt"
   ]
  },
  {
   "cell_type": "markdown",
   "id": "cbabc1d7",
   "metadata": {},
   "source": [
    "1. Write a program to create a simple line plot with labeled axes and a title."
   ]
  },
  {
   "cell_type": "code",
   "execution_count": 36,
   "id": "74aacd64",
   "metadata": {},
   "outputs": [
    {
     "data": {
      "image/png": "[encoded data removed]",
      "text/plain": [
       "<Figure size 640x480 with 1 Axes>"
      ]
     },
     "metadata": {},
     "output_type": "display_data"
    }
   ],
   "source": [
    "x = [1, 2, 3, 4, 5]\n",
    "y = [10, 20, 30, 40, 50]\n",
    "\n",
    "plt.plot(x,y)\n",
    "plt.xlabel('X-axis')\n",
    "plt.ylabel('Y-axis')\n",
    "plt.title('simple line plot')\n",
    "plt.show()"
   ]
  },
  {
   "cell_type": "markdown",
   "id": "6af18c5b",
   "metadata": {},
   "source": [
    "2.How do you create a bar chart showing the frequency of categorical data?"
   ]
  },
  {
   "cell_type": "code",
   "execution_count": 37,
   "id": "ddb2d1b9",
   "metadata": {},
   "outputs": [
    {
     "data": {
      "image/png": "[encoded data removed]",
      "text/plain": [
       "<Figure size 640x480 with 1 Axes>"
      ]
     },
     "metadata": {},
     "output_type": "display_data"
    }
   ],
   "source": [
    "categories = ['A', 'B', 'C']\n",
    "frequencies = [5, 7, 3]\n",
    "\n",
    "plt.bar(categories,frequencies)\n",
    "plt.xlabel('Categories')\n",
    "plt.ylabel('Frequency')\n",
    "plt.title('Bar Chart Example')\n",
    "plt.show()"
   ]
  },
  {
   "cell_type": "markdown",
   "id": "88579353",
   "metadata": {},
   "source": [
    "3. Create a scatter plot with points of varying sizes and colors"
   ]
  },
  {
   "cell_type": "code",
   "execution_count": 38,
   "id": "35430769",
   "metadata": {},
   "outputs": [
    {
     "data": {
      "image/png": "[encoded data removed]",
      "text/plain": [
       "<Figure size 640x480 with 1 Axes>"
      ]
     },
     "metadata": {},
     "output_type": "display_data"
    }
   ],
   "source": [
    "x = [1, 2, 3, 4, 5]\n",
    "y = [5, 10, 15, 20, 25]\n",
    "sizes = [50, 100, 200, 300, 400]\n",
    "colors = [1, 2, 3, 4, 5]\n",
    "\n",
    "plt.scatter(x,y,s=sizes,c=colors,cmap='viridis',alpha=0.7)\n",
    "plt.xlabel('X-axis')\n",
    "plt.ylabel('Y-axis')\n",
    "plt.title('Scattr plot example')\n",
    "plt.show()"
   ]
  },
  {
   "cell_type": "markdown",
   "id": "53acaa69",
   "metadata": {},
   "source": [
    "4.Write a program to plot multiple linese on the same graph with a legend."
   ]
  },
  {
   "cell_type": "code",
   "execution_count": 39,
   "id": "c3aad8dc",
   "metadata": {},
   "outputs": [
    {
     "data": {
      "image/png": "[encoded data removed]",
      "text/plain": [
       "<Figure size 640x480 with 1 Axes>"
      ]
     },
     "metadata": {},
     "output_type": "display_data"
    }
   ],
   "source": [
    "x = [1, 2, 3, 4, 5]\n",
    "y1 = [10, 20, 30, 40, 50]\n",
    "y2 = [5, 15, 25, 35, 45]\n",
    "\n",
    "plt.plot(x,y1,label='line 1',color='red',linestyle='-')\n",
    "plt.plot(x,y2,label='line 2',color='blue',linestyle='--')\n",
    "plt.xlabel('X-axis')\n",
    "plt.ylabel('Y-axis')\n",
    "plt.title('Multiple lines example')\n",
    "plt.legend()\n",
    "plt.show()"
   ]
  },
  {
   "cell_type": "markdown",
   "id": "04035f8f",
   "metadata": {},
   "source": [
    "5.Create a histogram to visualize the distribution of a dataset."
   ]
  },
  {
   "cell_type": "code",
   "execution_count": 40,
   "id": "bfe2c153",
   "metadata": {},
   "outputs": [
    {
     "data": {
      "image/png": "[encoded data removed]",
      "text/plain": [
       "<Figure size 640x480 with 1 Axes>"
      ]
     },
     "metadata": {},
     "output_type": "display_data"
    }
   ],
   "source": [
    "data = np.random.randn(1000)\n",
    "\n",
    "plt.hist(data,bins=100,color='purple',edgecolor='black')\n",
    "plt.xlabel('value')\n",
    "plt.ylabel('frequency')\n",
    "plt.title('histogram example')\n",
    "plt.show()"
   ]
  },
  {
   "cell_type": "markdown",
   "id": "d6bf3d3f",
   "metadata": {},
   "source": [
    "6.How do you customize a plot with grid lines, annotations, and limits? Write a code example."
   ]
  },
  {
   "cell_type": "code",
   "execution_count": 41,
   "id": "0fa1b013",
   "metadata": {},
   "outputs": [
    {
     "data": {
      "image/png": "[encoded data removed]",
      "text/plain": [
       "<Figure size 640x480 with 1 Axes>"
      ]
     },
     "metadata": {},
     "output_type": "display_data"
    }
   ],
   "source": [
    "x = [1, 2, 3, 4, 5]\n",
    "y = [10, 20, 30, 40, 50]\n",
    "\n",
    "# Create plot\n",
    "plt.plot(x, y, marker='o', label='Data Points')\n",
    "\n",
    "# Add grid lines\n",
    "plt.grid(True, linestyle='--', alpha=0.2)\n",
    "\n",
    "plt.annotate('Max Value',xy=(5,50),xytext=(4,45),arrowprops=dict(facecolor='black',arrowstyle='->'))\n",
    "\n",
    "plt.xlim(0,6)\n",
    "plt.ylim(0,60)\n",
    "\n",
    "plt.xlabel(\"X-axis\")\n",
    "plt.ylabel(\"Y-axis\")\n",
    "plt.title(\"Customized Plot\")\n",
    "\n",
    "plt.show()"
   ]
  },
  {
   "cell_type": "markdown",
   "id": "c0c863d2",
   "metadata": {},
   "source": [
    "7. Write a program to create subplots for different types of plots."
   ]
  },
  {
   "cell_type": "code",
   "execution_count": 42,
   "id": "fcb85f9c",
   "metadata": {},
   "outputs": [
    {
     "data": {
      "image/png": "[encoded data removed]",
      "text/plain": [
       "<Figure size 1000x800 with 4 Axes>"
      ]
     },
     "metadata": {},
     "output_type": "display_data"
    }
   ],
   "source": [
    "x = [1, 2, 3, 4, 5]\n",
    "y = [10, 20, 30, 40, 50]\n",
    "\n",
    "fig,axs = plt.subplots(2,2,figsize=(10,8))\n",
    "\n",
    "axs[0,0].plot(x,y,color='red')\n",
    "axs[0,0].set_title('Line plot')\n",
    "\n",
    "axs[0,1].bar(x,y,color='green')\n",
    "axs[0,1].set_title('Bar Chart')\n",
    "\n",
    "axs[1,0].scatter(x,y,color='blue')\n",
    "axs[1,0].set_title('Scatter plot')\n",
    "\n",
    "axs[1, 1].hist(y, bins=5, color='purple')\n",
    "axs[1, 1].set_title(\"Histogram\")\n",
    "\n",
    "plt.tight_layout()\n",
    "plt.show()"
   ]
  },
  {
   "cell_type": "markdown",
   "id": "8bbee6a0",
   "metadata": {},
   "source": [
    "All 3 combined"
   ]
  },
  {
   "cell_type": "markdown",
   "id": "e9edd839",
   "metadata": {},
   "source": [
    "1.Create ap nadas DataFram,compute statistical measures using NumPy, and visualize the results using Matplotlib."
   ]
  },
  {
   "cell_type": "code",
   "execution_count": 43,
   "id": "f08bd727",
   "metadata": {},
   "outputs": [
    {
     "name": "stdout",
     "output_type": "stream",
     "text": [
      "A    30.0\n",
      "B    35.0\n",
      "dtype: float64\n"
     ]
    },
    {
     "data": {
      "image/png": "[encoded data removed]",
      "text/plain": [
       "<Figure size 640x480 with 1 Axes>"
      ]
     },
     "metadata": {},
     "output_type": "display_data"
    }
   ],
   "source": [
    "data = {'A':[10,20,30,40,50],'B':[15,25,35,45,55]}\n",
    "df = pd.DataFrame(data)\n",
    "\n",
    "mean = np.mean(df,axis=0)\n",
    "std = np.std(df,axis=0)\n",
    "\n",
    "print(mean)\n",
    "\n",
    "x = df.columns\n",
    "\n",
    "plt.bar(x,mean,yerr=std,capsize = 5,color=['red','blue'])\n",
    "plt.xlabel('columns')\n",
    "plt.ylabel('mean values')\n",
    "plt.title('Mean and Standard deviation of columns')\n",
    "plt.show()"
   ]
  },
  {
   "cell_type": "markdown",
   "id": "47567513",
   "metadata": {},
   "source": [
    "2.Generate a random NumPy array, convert it to a pandas DataFrame, and plot one column against another."
   ]
  },
  {
   "cell_type": "code",
   "execution_count": 44,
   "id": "c7e53826",
   "metadata": {},
   "outputs": [
    {
     "data": {
      "image/png": "[encoded data removed]",
      "text/plain": [
       "<Figure size 640x480 with 1 Axes>"
      ]
     },
     "metadata": {},
     "output_type": "display_data"
    }
   ],
   "source": [
    "array = np.random.randint(1,100,size=(50,2))\n",
    "\n",
    "df = pd.DataFrame(array,columns=['X','Y'])\n",
    "\n",
    "plt.scatter(df['X'],df['Y'],c='purple',alpha=0.5)\n",
    "plt.xlabel('X')\n",
    "plt.ylabel('Y')\n",
    "plt.title('Scatter plot of Random Data')\n",
    "plt.show()"
   ]
  },
  {
   "cell_type": "markdown",
   "id": "ff91b4bd",
   "metadata": {},
   "source": [
    "3. Read CSV file into a pandas DataFrame analyze it using NumPy, and visualize the results using Matplotlib."
   ]
  },
  {
   "cell_type": "code",
   "execution_count": 45,
   "id": "e1ab159b",
   "metadata": {},
   "outputs": [
    {
     "name": "stdout",
     "output_type": "stream",
     "text": [
      "  Product  Sales  Profit  Profit_margin\n",
      "0       A    100      20      20.000000\n",
      "1       B    200      50      25.000000\n",
      "2       C    150      40      26.666667\n",
      "3       D    300      70      23.333333\n",
      "4       E    250      60      24.000000\n"
     ]
    },
    {
     "data": {
      "image/png": "[encoded data removed]",
      "text/plain": [
       "<Figure size 640x480 with 2 Axes>"
      ]
     },
     "metadata": {},
     "output_type": "display_data"
    }
   ],
   "source": [
    "data = {\n",
    "    'Product': ['A', 'B', 'C', 'D', 'E'],\n",
    "    'Sales': [100, 200, 150, 300, 250],\n",
    "    'Profit': [20, 50, 40, 70, 60]\n",
    "}\n",
    "\n",
    "df = pd.DataFrame(data)\n",
    "\n",
    "df['Profit_margin'] = np.divide(df['Profit'],df['Sales'])*100\n",
    "print(df)\n",
    "fig,ax1 = plt.subplots()\n",
    "\n",
    "ax1.bar(df['Product'],df['Sales'],color='blue',label='Sales',alpha=0.69)\n",
    "ax1.set_xlabel('Product')\n",
    "ax1.set_ylabel('Sales',color='blue')\n",
    "\n",
    "\n",
    "ax2 = ax1.twinx()\n",
    "ax2.plot(df['Product'],df['Profit_margin'],color='red')\n",
    "ax2.set_ylabel('Profit Margin(%)',color='red')\n",
    "plt.show()"
   ]
  },
  {
   "cell_type": "markdown",
   "id": "567e0db1",
   "metadata": {},
   "source": [
    "4.Combine NumPy and pandas to normalize a data in DataFrame, then plot normalized values using Matplotlib."
   ]
  },
  {
   "cell_type": "code",
   "execution_count": 46,
   "id": "0bf5d210",
   "metadata": {},
   "outputs": [
    {
     "name": "stdout",
     "output_type": "stream",
     "text": [
      "          A         B\n",
      "0  0.000000  0.111111\n",
      "1  0.222222  0.333333\n",
      "2  0.444444  0.555556\n",
      "3  0.666667  0.777778\n",
      "4  0.888889  1.000000\n"
     ]
    },
    {
     "data": {
      "image/png": "[encoded data removed]",
      "text/plain": [
       "<Figure size 640x480 with 1 Axes>"
      ]
     },
     "metadata": {},
     "output_type": "display_data"
    }
   ],
   "source": [
    "data = {'A':[10,20,30,40,50],'B':[15,25,35,45,55]}\n",
    "df = pd.DataFrame(data)\n",
    "\n",
    "df_normalized = (df-np.min(df))/(np.max(df)-np.min(df))\n",
    "print(df_normalized)\n",
    "plt.plot(df['A'],label='A(Normalized)',marker='o')\n",
    "plt.plot(df['B'],label='B(Normalized)',marker='s')\n",
    "plt.xlabel('Index')\n",
    "plt.ylabel('Normalized value')\n",
    "plt.title('Normalized data visualization')\n",
    "plt.legend()\n",
    "plt.show()"
   ]
  },
  {
   "cell_type": "markdown",
   "id": "d08bf57d",
   "metadata": {},
   "source": [
    "5. Create a pandas DataFrame from a NumPy array, filter rows based on a condition, and plot the filtered data."
   ]
  },
  {
   "cell_type": "code",
   "execution_count": 47,
   "id": "cf9828eb",
   "metadata": {},
   "outputs": [
    {
     "data": {
      "image/png": "[encoded data removed]",
      "text/plain": [
       "<Figure size 640x480 with 1 Axes>"
      ]
     },
     "metadata": {},
     "output_type": "display_data"
    }
   ],
   "source": [
    "array = np.random.randint(1,100,size=(20,2))\n",
    "df = pd.DataFrame(array,columns=['X','Y'])\n",
    "filtered_df = df[df['X']>50]\n",
    "plt.scatter(filtered_df['X'],filtered_df['Y'],c='orange',alpha=0.5)\n",
    "plt.xlabel('X')\n",
    "plt.ylabel('Y')\n",
    "plt.title('Filtered Data (x>50)')\n",
    "plt.show()"
   ]
  },
  {
   "cell_type": "code",
   "execution_count": 67,
   "id": "2caf182d",
   "metadata": {},
   "outputs": [
    {
     "name": "stdout",
     "output_type": "stream",
     "text": [
      "   value  cat_A  cat_B  cat_C  scaled\n",
      "0    100   True  False  False    0.00\n",
      "1    200  False   True  False    0.25\n",
      "2    300   True  False  False    0.50\n",
      "3    400  False   True  False    0.75\n",
      "4    500  False  False   True    1.00\n",
      "     value\n",
      "cat       \n",
      "A    200.0\n",
      "B    300.0\n",
      "C    500.0\n"
     ]
    }
   ],
   "source": [
    "from sklearn.preprocessing import MinMaxScaler\n",
    "\n",
    "data = {'value':[100,200,300,400,500],\n",
    "       'cat': ['A', 'B', 'A', 'B', 'C']}\n",
    "df = pd.DataFrame(data)\n",
    "ogdf = df.copy()\n",
    "df= pd.get_dummies(df,columns=['cat'])\n",
    "\n",
    "scaler = MinMaxScaler()\n",
    "df['scaled'] = scaler.fit_transform(df[['value']])\n",
    "\n",
    "print(df)\n",
    "\n",
    "grouped_df = ogdf.groupby('cat').mean()\n",
    "print(grouped_df)"
   ]
  },
  {
   "cell_type": "code",
   "execution_count": 70,
   "id": "be8e0e8b",
   "metadata": {},
   "outputs": [
    {
     "name": "stdout",
     "output_type": "stream",
     "text": [
      "     value\n",
      "cat       \n",
      "A    200.0\n",
      "B    300.0\n",
      "Index(['value'], dtype='object')\n"
     ]
    }
   ],
   "source": [
    "print(grouped_df[grouped_df['value']<400])\n",
    "print(grouped_df.columns)"
   ]
  },
  {
   "cell_type": "code",
   "execution_count": 79,
   "id": "6ddf9c02",
   "metadata": {},
   "outputs": [
    {
     "data": {
      "text/html": [
       "<div>\n",
       "<style scoped>\n",
       "    .dataframe tbody tr th:only-of-type {\n",
       "        vertical-align: middle;\n",
       "    }\n",
       "\n",
       "    .dataframe tbody tr th {\n",
       "        vertical-align: top;\n",
       "    }\n",
       "\n",
       "    .dataframe thead th {\n",
       "        text-align: right;\n",
       "    }\n",
       "</style>\n",
       "<table border=\"1\" class=\"dataframe\">\n",
       "  <thead>\n",
       "    <tr style=\"text-align: right;\">\n",
       "      <th></th>\n",
       "      <th>value</th>\n",
       "    </tr>\n",
       "  </thead>\n",
       "  <tbody>\n",
       "    <tr>\n",
       "      <th>count</th>\n",
       "      <td>5.000000</td>\n",
       "    </tr>\n",
       "    <tr>\n",
       "      <th>mean</th>\n",
       "      <td>300.000000</td>\n",
       "    </tr>\n",
       "    <tr>\n",
       "      <th>std</th>\n",
       "      <td>158.113883</td>\n",
       "    </tr>\n",
       "    <tr>\n",
       "      <th>min</th>\n",
       "      <td>100.000000</td>\n",
       "    </tr>\n",
       "    <tr>\n",
       "      <th>25%</th>\n",
       "      <td>200.000000</td>\n",
       "    </tr>\n",
       "    <tr>\n",
       "      <th>50%</th>\n",
       "      <td>300.000000</td>\n",
       "    </tr>\n",
       "    <tr>\n",
       "      <th>75%</th>\n",
       "      <td>400.000000</td>\n",
       "    </tr>\n",
       "    <tr>\n",
       "      <th>max</th>\n",
       "      <td>500.000000</td>\n",
       "    </tr>\n",
       "  </tbody>\n",
       "</table>\n",
       "</div>"
      ],
      "text/plain": [
       "            value\n",
       "count    5.000000\n",
       "mean   300.000000\n",
       "std    158.113883\n",
       "min    100.000000\n",
       "25%    200.000000\n",
       "50%    300.000000\n",
       "75%    400.000000\n",
       "max    500.000000"
      ]
     },
     "execution_count": 79,
     "metadata": {},
     "output_type": "execute_result"
    }
   ],
   "source": [
    "ogdf.describe()"
   ]
  },
  {
   "cell_type": "code",
   "execution_count": 89,
   "id": "c4df40d3",
   "metadata": {},
   "outputs": [
    {
     "data": {
      "text/plain": [
       "A    0.166667\n",
       "B    0.333333\n",
       "dtype: float64"
      ]
     },
     "execution_count": 89,
     "metadata": {},
     "output_type": "execute_result"
    }
   ],
   "source": [
    "dat = {'A':[69,96,None, 56, 75, 69],\n",
    "     'B':['meow','meow',None,None,'meow','meow']}\n",
    "fd = pd.DataFrame(dat)\n",
    "fd.isnull().sum()\n",
    "fd.isnull().mean()"
   ]
  },
  {
   "cell_type": "code",
   "execution_count": 90,
   "id": "d5c17f8e",
   "metadata": {},
   "outputs": [
    {
     "data": {
      "text/plain": [
       "<Axes: >"
      ]
     },
     "execution_count": 90,
     "metadata": {},
     "output_type": "execute_result"
    },
    {
     "data": {
      "image/png": "[encoded data removed]",
      "text/plain": [
       "<Figure size 640x480 with 2 Axes>"
      ]
     },
     "metadata": {},
     "output_type": "display_data"
    }
   ],
   "source": [
    "import seaborn as sns\n",
    "sns.heatmap(fd.isnull())"
   ]
  },
  {
   "cell_type": "code",
   "execution_count": 91,
   "id": "6eab52f3",
   "metadata": {},
   "outputs": [
    {
     "data": {
      "text/plain": [
       "1"
      ]
     },
     "execution_count": 91,
     "metadata": {},
     "output_type": "execute_result"
    }
   ],
   "source": [
    "fd.duplicated().sum()"
   ]
  },
  {
   "cell_type": "code",
   "execution_count": 93,
   "id": "d2a0f7b2",
   "metadata": {},
   "outputs": [
    {
     "name": "stdout",
     "output_type": "stream",
     "text": [
      "     A    B    C\n",
      "1  2.0  1.0  4.0\n",
      "3  4.0  3.0  2.0\n",
      "     A    B    C\n",
      "0  1.0  2.5  5.0\n",
      "1  2.0  1.0  4.0\n",
      "2  3.0  2.0  3.0\n",
      "3  4.0  3.0  2.0\n",
      "4  5.0  4.0  3.5\n",
      "     A    B    C\n",
      "0  1.0  1.5  5.0\n",
      "1  2.0  1.0  4.0\n",
      "2  3.0  2.0  3.0\n",
      "3  4.0  3.0  2.0\n",
      "4  5.0  4.0  2.5\n"
     ]
    }
   ],
   "source": [
    "from sklearn.impute import KNNImputer\n",
    "data = {\n",
    "    'A': [1, 2, np.nan, 4, 5],\n",
    "    'B': [np.nan, 1, 2, 3, 4],\n",
    "    'C': [5, 4, 3, 2, np.nan]\n",
    "}\n",
    "df = pd.DataFrame(data)\n",
    "df_drp = df.dropna()\n",
    "print(df_drp)\n",
    "\n",
    "df_fil = df.fillna(df.mean())\n",
    "print(df_fil)\n",
    "\n",
    "knn_imputer = KNNImputer(n_neighbors = 2)\n",
    "df_knn_imputer = pd.DataFrame(knn_imputer.fit_transform(df),columns=df.columns)\n",
    "print(df_knn_imputer)"
   ]
  },
  {
   "cell_type": "code",
   "execution_count": 94,
   "id": "816f2ee5",
   "metadata": {},
   "outputs": [
    {
     "name": "stdout",
     "output_type": "stream",
     "text": [
      "     f1    f2\n",
      "0  0.00  0.00\n",
      "1  0.25  0.25\n",
      "2  0.50  0.50\n",
      "3  0.75  0.75\n",
      "4  1.00  1.00\n",
      "         f1        f2\n",
      "0 -1.414214 -1.414214\n",
      "1 -0.707107 -0.707107\n",
      "2  0.000000  0.000000\n",
      "3  0.707107  0.707107\n",
      "4  1.414214  1.414214\n"
     ]
    }
   ],
   "source": [
    "data = {\n",
    "    'f1':[1,2,3,4,5],\n",
    "    'f2':[10,20,30,40,50]\n",
    "}\n",
    "\n",
    "df = pd.DataFrame(data)\n",
    "\n",
    "from sklearn.preprocessing import MinMaxScaler\n",
    "scaler = MinMaxScaler()\n",
    "ndf = pd.DataFrame(scaler.fit_transform(df),columns=df.columns)\n",
    "print(ndf)\n",
    "\n",
    "from sklearn.preprocessing import StandardScaler\n",
    "\n",
    "scaler = StandardScaler()\n",
    "sdf = pd.DataFrame(scaler.fit_transform(df),columns=df.columns)\n",
    "print(sdf)"
   ]
  },
  {
   "cell_type": "code",
   "execution_count": 98,
   "id": "cd2945f0",
   "metadata": {},
   "outputs": [
    {
     "name": "stdout",
     "output_type": "stream",
     "text": [
      "   feature\n",
      "1       69\n",
      "2       96\n",
      "3       50\n"
     ]
    }
   ],
   "source": [
    "data = {'feature':[10,69,96,50,100000]}\n",
    "\n",
    "df = pd.DataFrame(data)\n",
    "Q1 = df['feature'].quantile(0.50)\n",
    "Q3 = df['feature'].quantile(0.75)\n",
    "\n",
    "IOR = Q3-Q1\n",
    "lb = Q1 - 1.5 * IOR\n",
    "ub = Q3 + 1.5 * IOR\n",
    "\n",
    "df_no_ol = df[(df['feature']>=lb)&(df['feature']<=ub)]\n",
    "print(df_no_ol)"
   ]
  },
  {
   "cell_type": "code",
   "execution_count": 125,
   "id": "63851585",
   "metadata": {},
   "outputs": [
    {
     "name": "stdout",
     "output_type": "stream",
     "text": [
      "[1 2 3 4] \n",
      " [5 6 7 8]\n",
      "[1 2 3 4 5 6 7 8]\n",
      "[[1 2 3 4]\n",
      " [5 6 7 8]]\n",
      "[array([1, 2, 3]), array([4, 5, 6]), array([7, 8])]\n",
      "[array([[1, 2],\n",
      "       [5, 6]]), array([[3, 4],\n",
      "       [7, 8]])]\n"
     ]
    }
   ],
   "source": [
    "ar = np.array([1,2,3,4])\n",
    "ar2 = np.array([5,6,7,8])\n",
    "print(ar,'\\n',ar2)\n",
    "hr = np.hstack((ar,ar2))\n",
    "print(hr)\n",
    "vr = np.vstack((ar,ar2))\n",
    "print(vr)\n",
    "x = np.array_split(hr,3)\n",
    "print(x)\n",
    "\n",
    "y = np.hsplit(vr,2)\n",
    "print(y)"
   ]
  },
  {
   "cell_type": "code",
   "execution_count": 135,
   "id": "b03bd8d6",
   "metadata": {},
   "outputs": [
    {
     "name": "stdout",
     "output_type": "stream",
     "text": [
      "2\n",
      "2\n",
      "2\n",
      "2\n",
      "2\n",
      "2\n",
      "2\n",
      "2\n",
      "2\n",
      "2\n",
      "2\n",
      "2\n"
     ]
    }
   ],
   "source": [
    "np.random.seed(42)\n",
    "\n",
    "ran = np.random.randint(4)\n",
    "for i in range(12):\n",
    "    print(ran)"
   ]
  },
  {
   "cell_type": "code",
   "execution_count": 142,
   "id": "9987bb91",
   "metadata": {},
   "outputs": [],
   "source": [
    "arr_to_txt = np.array([1,2,4,5])\n",
    "np.savetxt('cutearr.txt',arr_to_txt,delimiter=',')"
   ]
  },
  {
   "cell_type": "code",
   "execution_count": 144,
   "id": "92fb01f7",
   "metadata": {},
   "outputs": [
    {
     "name": "stdout",
     "output_type": "stream",
     "text": [
      "[69 34 56 78]\n",
      "0    69\n",
      "1    34\n",
      "2    56\n",
      "3    78\n",
      "dtype: int32\n"
     ]
    }
   ],
   "source": [
    "import pandas as pd \n",
    "import numpy as np\n",
    "\n",
    "arr = np.array([69,34,56,78])\n",
    "ser = pd.Series(arr)\n",
    "print(arr)\n",
    "print(ser)"
   ]
  },
  {
   "cell_type": "code",
   "execution_count": 153,
   "id": "97736750",
   "metadata": {},
   "outputs": [
    {
     "name": "stdout",
     "output_type": "stream",
     "text": [
      "('20',   name age\n",
      "1  shr  20\n",
      "2  adi  20)\n",
      "('21',   name age\n",
      "0  sum  21)\n"
     ]
    },
    {
     "data": {
      "text/html": [
       "<div>\n",
       "<style scoped>\n",
       "    .dataframe tbody tr th:only-of-type {\n",
       "        vertical-align: middle;\n",
       "    }\n",
       "\n",
       "    .dataframe tbody tr th {\n",
       "        vertical-align: top;\n",
       "    }\n",
       "\n",
       "    .dataframe thead th {\n",
       "        text-align: right;\n",
       "    }\n",
       "</style>\n",
       "<table border=\"1\" class=\"dataframe\">\n",
       "  <thead>\n",
       "    <tr style=\"text-align: right;\">\n",
       "      <th></th>\n",
       "      <th>name</th>\n",
       "      <th>age</th>\n",
       "    </tr>\n",
       "  </thead>\n",
       "  <tbody>\n",
       "    <tr>\n",
       "      <th>0</th>\n",
       "      <td>sum</td>\n",
       "      <td>21</td>\n",
       "    </tr>\n",
       "    <tr>\n",
       "      <th>1</th>\n",
       "      <td>shr</td>\n",
       "      <td>20</td>\n",
       "    </tr>\n",
       "    <tr>\n",
       "      <th>2</th>\n",
       "      <td>adi</td>\n",
       "      <td>20</td>\n",
       "    </tr>\n",
       "  </tbody>\n",
       "</table>\n",
       "</div>"
      ],
      "text/plain": [
       "  name age\n",
       "0  sum  21\n",
       "1  shr  20\n",
       "2  adi  20"
      ]
     },
     "execution_count": 153,
     "metadata": {},
     "output_type": "execute_result"
    }
   ],
   "source": [
    "data = {'name':['sum','shr','adi'],'age':['21','20','20']}\n",
    "df = pd.DataFrame(data)\n",
    "cor = df.groupby('age')\n",
    "for c in cor:\n",
    "    print(c )\n",
    "df"
   ]
  },
  {
   "cell_type": "code",
   "execution_count": 152,
   "id": "0fe5cad8",
   "metadata": {},
   "outputs": [
    {
     "data": {
      "text/html": [
       "<div>\n",
       "<style scoped>\n",
       "    .dataframe tbody tr th:only-of-type {\n",
       "        vertical-align: middle;\n",
       "    }\n",
       "\n",
       "    .dataframe tbody tr th {\n",
       "        vertical-align: top;\n",
       "    }\n",
       "\n",
       "    .dataframe thead th {\n",
       "        text-align: right;\n",
       "    }\n",
       "</style>\n",
       "<table border=\"1\" class=\"dataframe\">\n",
       "  <thead>\n",
       "    <tr style=\"text-align: right;\">\n",
       "      <th></th>\n",
       "      <th>name</th>\n",
       "      <th>age</th>\n",
       "    </tr>\n",
       "  </thead>\n",
       "  <tbody>\n",
       "    <tr>\n",
       "      <th>0</th>\n",
       "      <td>sum</td>\n",
       "      <td>21</td>\n",
       "    </tr>\n",
       "    <tr>\n",
       "      <th>1</th>\n",
       "      <td>shr</td>\n",
       "      <td>20</td>\n",
       "    </tr>\n",
       "    <tr>\n",
       "      <th>2</th>\n",
       "      <td>adi</td>\n",
       "      <td>20</td>\n",
       "    </tr>\n",
       "  </tbody>\n",
       "</table>\n",
       "</div>"
      ],
      "text/plain": [
       "  name  age\n",
       "0  sum   21\n",
       "1  shr   20\n",
       "2  adi   20"
      ]
     },
     "execution_count": 152,
     "metadata": {},
     "output_type": "execute_result"
    }
   ],
   "source": [
    "df['age'] = df['age'].astype('int')\n",
    "df"
   ]
  },
  {
   "cell_type": "code",
   "execution_count": 157,
   "id": "17b0544d",
   "metadata": {},
   "outputs": [
    {
     "data": {
      "text/html": [
       "<div>\n",
       "<style scoped>\n",
       "    .dataframe tbody tr th:only-of-type {\n",
       "        vertical-align: middle;\n",
       "    }\n",
       "\n",
       "    .dataframe tbody tr th {\n",
       "        vertical-align: top;\n",
       "    }\n",
       "\n",
       "    .dataframe thead th {\n",
       "        text-align: right;\n",
       "    }\n",
       "</style>\n",
       "<table border=\"1\" class=\"dataframe\">\n",
       "  <thead>\n",
       "    <tr style=\"text-align: right;\">\n",
       "      <th></th>\n",
       "      <th>Name</th>\n",
       "      <th>x</th>\n",
       "      <th>y</th>\n",
       "    </tr>\n",
       "  </thead>\n",
       "  <tbody>\n",
       "    <tr>\n",
       "      <th>0</th>\n",
       "      <td>sum</td>\n",
       "      <td>1</td>\n",
       "      <td>2</td>\n",
       "    </tr>\n",
       "    <tr>\n",
       "      <th>1</th>\n",
       "      <td>sum</td>\n",
       "      <td>3</td>\n",
       "      <td>3</td>\n",
       "    </tr>\n",
       "    <tr>\n",
       "      <th>2</th>\n",
       "      <td>sum</td>\n",
       "      <td>4</td>\n",
       "      <td>4</td>\n",
       "    </tr>\n",
       "    <tr>\n",
       "      <th>3</th>\n",
       "      <td>sum</td>\n",
       "      <td>5</td>\n",
       "      <td>5</td>\n",
       "    </tr>\n",
       "    <tr>\n",
       "      <th>4</th>\n",
       "      <td>sum</td>\n",
       "      <td>6</td>\n",
       "      <td>7</td>\n",
       "    </tr>\n",
       "  </tbody>\n",
       "</table>\n",
       "</div>"
      ],
      "text/plain": [
       "  Name  x  y\n",
       "0  sum  1  2\n",
       "1  sum  3  3\n",
       "2  sum  4  4\n",
       "3  sum  5  5\n",
       "4  sum  6  7"
      ]
     },
     "execution_count": 157,
     "metadata": {},
     "output_type": "execute_result"
    }
   ],
   "source": [
    "data = {\n",
    "    'Name':['sum','sum','sum','sum','sum'],\n",
    "    'x':[1,3,4,5,6],\n",
    "    'y':[2,3,4,5,7]\n",
    "}\n",
    "\n",
    "df = pd.DataFrame(data)\n",
    "df"
   ]
  },
  {
   "cell_type": "code",
   "execution_count": 160,
   "id": "20a00ac0",
   "metadata": {},
   "outputs": [
    {
     "data": {
      "text/html": [
       "<div>\n",
       "<style scoped>\n",
       "    .dataframe tbody tr th:only-of-type {\n",
       "        vertical-align: middle;\n",
       "    }\n",
       "\n",
       "    .dataframe tbody tr th {\n",
       "        vertical-align: top;\n",
       "    }\n",
       "\n",
       "    .dataframe thead th {\n",
       "        text-align: right;\n",
       "    }\n",
       "</style>\n",
       "<table border=\"1\" class=\"dataframe\">\n",
       "  <thead>\n",
       "    <tr style=\"text-align: right;\">\n",
       "      <th></th>\n",
       "      <th>x</th>\n",
       "      <th>y</th>\n",
       "    </tr>\n",
       "  </thead>\n",
       "  <tbody>\n",
       "    <tr>\n",
       "      <th>x</th>\n",
       "      <td>1.000000</td>\n",
       "      <td>0.959459</td>\n",
       "    </tr>\n",
       "    <tr>\n",
       "      <th>y</th>\n",
       "      <td>0.959459</td>\n",
       "      <td>1.000000</td>\n",
       "    </tr>\n",
       "  </tbody>\n",
       "</table>\n",
       "</div>"
      ],
      "text/plain": [
       "          x         y\n",
       "x  1.000000  0.959459\n",
       "y  0.959459  1.000000"
      ]
     },
     "execution_count": 160,
     "metadata": {},
     "output_type": "execute_result"
    }
   ],
   "source": [
    "df[['x','y']].corr()"
   ]
  },
  {
   "cell_type": "code",
   "execution_count": 163,
   "id": "035959cb",
   "metadata": {},
   "outputs": [
    {
     "data": {
      "text/html": [
       "<div>\n",
       "<style scoped>\n",
       "    .dataframe tbody tr th:only-of-type {\n",
       "        vertical-align: middle;\n",
       "    }\n",
       "\n",
       "    .dataframe tbody tr th {\n",
       "        vertical-align: top;\n",
       "    }\n",
       "\n",
       "    .dataframe thead th {\n",
       "        text-align: right;\n",
       "    }\n",
       "</style>\n",
       "<table border=\"1\" class=\"dataframe\">\n",
       "  <thead>\n",
       "    <tr style=\"text-align: right;\">\n",
       "      <th></th>\n",
       "      <th>product</th>\n",
       "      <th>cat</th>\n",
       "      <th>price</th>\n",
       "    </tr>\n",
       "  </thead>\n",
       "  <tbody>\n",
       "    <tr>\n",
       "      <th>0</th>\n",
       "      <td>mer</td>\n",
       "      <td>cars</td>\n",
       "      <td>69</td>\n",
       "    </tr>\n",
       "    <tr>\n",
       "      <th>1</th>\n",
       "      <td>ducat</td>\n",
       "      <td>bikes</td>\n",
       "      <td>69</td>\n",
       "    </tr>\n",
       "    <tr>\n",
       "      <th>2</th>\n",
       "      <td>yamawa</td>\n",
       "      <td>bikes</td>\n",
       "      <td>99</td>\n",
       "    </tr>\n",
       "  </tbody>\n",
       "</table>\n",
       "</div>"
      ],
      "text/plain": [
       "  product    cat  price\n",
       "0     mer   cars     69\n",
       "1   ducat  bikes     69\n",
       "2  yamawa  bikes     99"
      ]
     },
     "execution_count": 163,
     "metadata": {},
     "output_type": "execute_result"
    }
   ],
   "source": [
    "data = [{'product':'mer','cat':'cars','price':69},\n",
    "        {'product':'ducat','cat':'bikes','price':69},\n",
    "        {'product':'yamawa','cat':'bikes','price':99}]\n",
    "df = pd.DataFrame(data)\n",
    "df"
   ]
  },
  {
   "cell_type": "code",
   "execution_count": 167,
   "id": "62ab33eb",
   "metadata": {},
   "outputs": [
    {
     "data": {
      "text/plain": [
       "cat\n",
       "bikes    168\n",
       "cars      69\n",
       "Name: price, dtype: int64"
      ]
     },
     "execution_count": 167,
     "metadata": {},
     "output_type": "execute_result"
    }
   ],
   "source": [
    "gd = df.groupby('cat')['price'].sum()\n",
    "gd"
   ]
  },
  {
   "cell_type": "code",
   "execution_count": 166,
   "id": "885a56cc",
   "metadata": {},
   "outputs": [
    {
     "data": {
      "text/plain": [
       "<Axes: title={'center': 'price'}, xlabel='cat'>"
      ]
     },
     "execution_count": 166,
     "metadata": {},
     "output_type": "execute_result"
    },
    {
     "data": {
      "image/png": "[encoded data removed]",
      "text/plain": [
       "<Figure size 640x480 with 1 Axes>"
      ]
     },
     "metadata": {},
     "output_type": "display_data"
    }
   ],
   "source": [
    "df.boxplot(column='price',by='cat')"
   ]
  },
  {
   "cell_type": "code",
   "execution_count": 176,
   "id": "a6bc2091",
   "metadata": {},
   "outputs": [
    {
     "data": {
      "text/html": [
       "<div>\n",
       "<style scoped>\n",
       "    .dataframe tbody tr th:only-of-type {\n",
       "        vertical-align: middle;\n",
       "    }\n",
       "\n",
       "    .dataframe tbody tr th {\n",
       "        vertical-align: top;\n",
       "    }\n",
       "\n",
       "    .dataframe thead th {\n",
       "        text-align: right;\n",
       "    }\n",
       "</style>\n",
       "<table border=\"1\" class=\"dataframe\">\n",
       "  <thead>\n",
       "    <tr style=\"text-align: right;\">\n",
       "      <th></th>\n",
       "      <th>key</th>\n",
       "      <th>value</th>\n",
       "    </tr>\n",
       "  </thead>\n",
       "  <tbody>\n",
       "    <tr>\n",
       "      <th>0</th>\n",
       "      <td>a</td>\n",
       "      <td>69</td>\n",
       "    </tr>\n",
       "    <tr>\n",
       "      <th>1</th>\n",
       "      <td>b</td>\n",
       "      <td>99</td>\n",
       "    </tr>\n",
       "    <tr>\n",
       "      <th>2</th>\n",
       "      <td>c</td>\n",
       "      <td>100</td>\n",
       "    </tr>\n",
       "  </tbody>\n",
       "</table>\n",
       "</div>"
      ],
      "text/plain": [
       "  key  value\n",
       "0   a     69\n",
       "1   b     99\n",
       "2   c    100"
      ]
     },
     "execution_count": 176,
     "metadata": {},
     "output_type": "execute_result"
    }
   ],
   "source": [
    "df1 = pd.DataFrame({'key':['a','b','d'],'value':[1,1,180]})\n",
    "df2 = pd.DataFrame({'key':['a','b','c'],'value':[69,99,100]})\n",
    "df2"
   ]
  },
  {
   "cell_type": "code",
   "execution_count": 189,
   "id": "38c6cd7e",
   "metadata": {},
   "outputs": [
    {
     "name": "stdout",
     "output_type": "stream",
     "text": [
      "  key  value_x  value_y\n",
      "0   a        1     69.0\n",
      "1   b        1     99.0\n",
      "2   d      180      NaN\n"
     ]
    }
   ],
   "source": [
    "merger = pd.merge(df1,df2,on='key',how='left')\n",
    "print(merger)"
   ]
  },
  {
   "cell_type": "code",
   "execution_count": 191,
   "id": "e4f0abf8",
   "metadata": {},
   "outputs": [
    {
     "name": "stdout",
     "output_type": "stream",
     "text": [
      "Original DataFrame:\n",
      "   A  B  C\n",
      "0  1  4  7\n",
      "1  2  5  8\n",
      "2  3  6  9\n",
      "\n",
      "Stacked DataFrame:\n",
      "0  A    1\n",
      "   B    4\n",
      "   C    7\n",
      "1  A    2\n",
      "   B    5\n",
      "   C    8\n",
      "2  A    3\n",
      "   B    6\n",
      "   C    9\n",
      "dtype: int64\n",
      "\n",
      "Unstacked DataFrame:\n",
      "   A  B  C\n",
      "0  1  4  7\n",
      "1  2  5  8\n",
      "2  3  6  9\n"
     ]
    }
   ],
   "source": [
    "import pandas as pd\n",
    "\n",
    "# Sample DataFrame\n",
    "data = {\n",
    "    'A': [1, 2, 3],\n",
    "    'B': [4, 5, 6],\n",
    "    'C': [7, 8, 9]\n",
    "}\n",
    "df = pd.DataFrame(data)\n",
    "print(\"Original DataFrame:\")\n",
    "print(df)\n",
    "\n",
    "# Using stack to reshape\n",
    "stacked_df = df.stack()\n",
    "print(\"\\nStacked DataFrame:\")\n",
    "print(stacked_df)\n",
    "# Using unstack to reshape back to original format\n",
    "unstacked_df = stacked_df.unstack()\n",
    "print(\"\\nUnstacked DataFrame:\")\n",
    "print(unstacked_df)\n",
    "\n"
   ]
  },
  {
   "cell_type": "code",
   "execution_count": 192,
   "id": "c8db9fa5",
   "metadata": {},
   "outputs": [
    {
     "name": "stdout",
     "output_type": "stream",
     "text": [
      "\n",
      "Melted DataFrame:\n",
      "  Variable  Value\n",
      "0        A      1\n",
      "1        A      2\n",
      "2        A      3\n",
      "3        B      4\n",
      "4        B      5\n",
      "5        B      6\n",
      "6        C      7\n",
      "7        C      8\n",
      "8        C      9\n"
     ]
    }
   ],
   "source": [
    "# Using melt to reshape the DataFrame\n",
    "melted_df = df.melt(var_name='Variable', value_name='Value')\n",
    "print(\"\\nMelted DataFrame:\")\n",
    "print(melted_df)\n"
   ]
  },
  {
   "cell_type": "code",
   "execution_count": 193,
   "id": "e88a13ce",
   "metadata": {},
   "outputs": [
    {
     "name": "stdout",
     "output_type": "stream",
     "text": [
      "\n",
      "Melted DataFrame:\n",
      "  Variable  Value  id\n",
      "0        A      1   1\n",
      "1        A      2   2\n",
      "2        B      4   1\n",
      "3        B      5   2\n",
      "4        C      7   1\n",
      "5        C      8   2\n",
      "\n",
      "Pivoted DataFrame:\n",
      "Variable  A  B  C\n",
      "id               \n",
      "1         1  4  7\n",
      "2         2  5  8\n"
     ]
    }
   ],
   "source": [
    "# Sample melted DataFrame for pivot demonstration\n",
    "melted_df = pd.DataFrame({\n",
    "    'Variable': ['A', 'A', 'B', 'B', 'C', 'C'],\n",
    "    'Value': [1, 2, 4, 5, 7, 8],\n",
    "    'id': [1, 2, 1, 2, 1, 2]\n",
    "})\n",
    "\n",
    "print(\"\\nMelted DataFrame:\")\n",
    "print(melted_df)\n",
    "\n",
    "# Using pivot to reshape the DataFrame\n",
    "pivoted_df = melted_df.pivot(index='id', columns='Variable', values='Value')\n",
    "print(\"\\nPivoted DataFrame:\")\n",
    "print(pivoted_df)\n"
   ]
  },
  {
   "cell_type": "code",
   "execution_count": 201,
   "id": "edc88693",
   "metadata": {},
   "outputs": [
    {
     "name": "stdout",
     "output_type": "stream",
     "text": [
      "[-10.          -9.7979798   -9.5959596   -9.39393939  -9.19191919\n",
      "  -8.98989899  -8.78787879  -8.58585859  -8.38383838  -8.18181818\n",
      "  -7.97979798  -7.77777778  -7.57575758  -7.37373737  -7.17171717\n",
      "  -6.96969697  -6.76767677  -6.56565657  -6.36363636  -6.16161616\n",
      "  -5.95959596  -5.75757576  -5.55555556  -5.35353535  -5.15151515\n",
      "  -4.94949495  -4.74747475  -4.54545455  -4.34343434  -4.14141414\n",
      "  -3.93939394  -3.73737374  -3.53535354  -3.33333333  -3.13131313\n",
      "  -2.92929293  -2.72727273  -2.52525253  -2.32323232  -2.12121212\n",
      "  -1.91919192  -1.71717172  -1.51515152  -1.31313131  -1.11111111\n",
      "  -0.90909091  -0.70707071  -0.50505051  -0.3030303   -0.1010101\n",
      "   0.1010101    0.3030303    0.50505051   0.70707071   0.90909091\n",
      "   1.11111111   1.31313131   1.51515152   1.71717172   1.91919192\n",
      "   2.12121212   2.32323232   2.52525253   2.72727273   2.92929293\n",
      "   3.13131313   3.33333333   3.53535354   3.73737374   3.93939394\n",
      "   4.14141414   4.34343434   4.54545455   4.74747475   4.94949495\n",
      "   5.15151515   5.35353535   5.55555556   5.75757576   5.95959596\n",
      "   6.16161616   6.36363636   6.56565657   6.76767677   6.96969697\n",
      "   7.17171717   7.37373737   7.57575758   7.77777778   7.97979798\n",
      "   8.18181818   8.38383838   8.58585859   8.78787879   8.98989899\n",
      "   9.19191919   9.39393939   9.5959596    9.7979798   10.        ]\n"
     ]
    },
    {
     "data": {
      "image/png": "[encoded data removed]",
      "text/plain": [
       "<Figure size 640x480 with 1 Axes>"
      ]
     },
     "metadata": {},
     "output_type": "display_data"
    }
   ],
   "source": [
    "import numpy as np\n",
    "import matplotlib.pyplot as plt\n",
    "\n",
    "# Define the x values and compute corresponding y values\n",
    "x = np.linspace(-10, 10, 100)\n",
    "print(x)\n",
    "y = 2 * x + 3\n",
    "\n",
    "# Create the plot\n",
    "plt.plot(x, y)\n",
    "\n",
    "# Add labels and title\n",
    "plt.xlabel('x values')\n",
    "plt.ylabel('y values')\n",
    "plt.title('Line Graph of y = 2x + 3')\n",
    "\n",
    "# Display the plot\n",
    "plt.grid(True)\n",
    "plt.show()\n"
   ]
  },
  {
   "cell_type": "code",
   "execution_count": null,
   "id": "d08eda35",
   "metadata": {},
   "outputs": [],
   "source": []
  },
  {
   "cell_type": "code",
   "execution_count": null,
   "id": "6d19f337",
   "metadata": {},
   "outputs": [],
   "source": []
  }
 ],
 "metadata": {
  "kernelspec": {
   "display_name": "Python 3 (ipykernel)",
   "language": "python",
   "name": "python3"
  },
  "language_info": {
   "codemirror_mode": {
    "name": "ipython",
    "version": 3
   },
   "file_extension": ".py",
   "mimetype": "text/x-python",
   "name": "python",
   "nbconvert_exporter": "python",
   "pygments_lexer": "ipython3",
   "version": "3.11.5"
  }
 },
 "nbformat": 4,
 "nbformat_minor": 5
}
